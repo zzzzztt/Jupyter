{
 "cells": [
  {
   "cell_type": "code",
   "execution_count": 25,
   "metadata": {},
   "outputs": [],
   "source": [
    "from collections import defaultdict\n",
    "from heapq import *\n",
    "import networkx as nx\n",
    "import matplotlib.pyplot as plt\n",
    "from GraphAlgorithmPlayer import GraphAlgorithmPlayer\n",
    "import copy\n"
   ]
  },
  {
   "cell_type": "code",
   "execution_count": null,
   "metadata": {},
   "outputs": [],
   "source": [
    "\n",
    "variables=[\n",
    "          {'name': 'G',          'type':'graph'                                     },\n",
    "          {'name':'node_labels',        'type':'nodes', 'label': True,    'display': False },\n",
    "          {'name':'non_developpe',        'type':'nodes', 'color': 'green',   'display': True },\n",
    "          {'name':'developpe',        'type':'nodes', 'color': 'red',   'display': True },\n",
    "          {'name':'v1',        'type':'nodes', 'color': 'yellow',   'display': True }\n",
    "          ]"
   ]
  },
  {
   "cell_type": "code",
   "execution_count": 63,
   "metadata": {},
   "outputs": [],
   "source": [
    "def dijkstra_raw(G,edges, dep, dst):\n",
    "    g = defaultdict(list)\n",
    "    for u,v,p in edges:#u->v p:poids\n",
    "        g[u].append((p,v))\n",
    "    q, seen = [(0,dep,())], set()\n",
    "    developpe = []\n",
    "\n",
    "    while q:\n",
    "        non_developpe = []\n",
    "        (poid,v1,trajet) = heappop(q)\n",
    "        if v1 not in seen:\n",
    "            print('trajet',trajet)\n",
    "            seen.add(v1)\n",
    "            \n",
    "            list_v1=[]  #list de trajet : red\n",
    "            if len(trajet)>0:\n",
    "                u = trajet[0]\n",
    "                list_v1.append(u)    \n",
    "                v = trajet[1]\n",
    "                while len(v)>0:\n",
    "                    u = v[0]\n",
    "                    list_v1.append(u)    \n",
    "                    v = v[1]\n",
    "            \n",
    "            trajet = (v1, trajet)\n",
    "            developpe.append(v1)\n",
    "            if v1 == dst:\n",
    "                player.set_value(copy.deepcopy(locals()))\n",
    "                return poid,trajet\n",
    "            \n",
    "            list_v2 = []\n",
    "            for p, v2 in g.get(v1, ()):\n",
    "                if v2 not in seen:\n",
    "                    list_v2.append(v2)\n",
    "                    heappush(q, (poid+p, v2, trajet))\n",
    "            for i in q :\n",
    "                non_developpe.append(i[1])\n",
    "                    \n",
    "            player.set_value(copy.deepcopy(locals()))\n",
    "            \n",
    "            \n",
    "    return float(\"inf\"),[]\n",
    " \n",
    "def dijkstra(G,edges, dep, dst):\n",
    "    pcc = -1    #pcc:plus court chemin\n",
    "    ret_trajet=[]\n",
    "    longueur,trajet_queue = dijkstra_raw(G,edges, dep, dst)\n",
    "    if len(trajet_queue)>0:\n",
    "        pcc = longueur    ## 1. Get the length firstly;\n",
    "        ## 2. Decompose the path_queue, to get the passing nodes in the shortest path.\n",
    "        u = trajet_queue[0]\n",
    "        ret_trajet.append(u)    ## 2.1 Record the destination node firstly;\n",
    "        v = trajet_queue[1]\n",
    "        while len(v)>0:\n",
    "            u = v[0]\n",
    "            ret_trajet.append(u)    ## 2.2 Record other nodes, till the source-node.\n",
    "            v = v[1]\n",
    "        ret_trajet.reverse() ## 3. Reverse the list finally, to make it be normal sequence.\n",
    "    return pcc,ret_trajet\n",
    "\n"
   ]
  },
  {
   "cell_type": "code",
   "execution_count": 64,
   "metadata": {},
   "outputs": [],
   "source": [
    "\n",
    "data =[('a','b',2),('a','c',3),('b','c',4),('b','d',3),('c','e',5),('d','f',2),('c','d',6),('f','g',4),('c','g',5)]\n",
    "\n",
    "G = nx.DiGraph()#.random_regular_graph\n",
    "G.add_weighted_edges_from(data)\n",
    "\n",
    "\n",
    "\n",
    "\n"
   ]
  },
  {
   "cell_type": "code",
   "execution_count": null,
   "metadata": {},
   "outputs": [],
   "source": [
    "player = GraphAlgorithmPlayer(G, variables=variables, view='networkx')\n",
    "player"
   ]
  },
  {
   "cell_type": "code",
   "execution_count": 66,
   "metadata": {},
   "outputs": [
    {
     "name": "stdout",
     "output_type": "stream",
     "text": [
      "trajet ()\n",
      "trajet ('a', ())\n",
      "trajet ('a', ())\n",
      "trajet ('b', ('a', ()))\n",
      "trajet ('d', ('b', ('a', ())))\n",
      "trajet ('c', ('a', ()))\n",
      "trajet ('c', ('a', ()))\n",
      "length =  8\n",
      "The shortest path is  ['a', 'c', 'g']\n"
     ]
    }
   ],
   "source": [
    "length,Shortest_path = dijkstra(G,data, 'a', 'g')\n",
    "print ('length = ',length)\n",
    "print ('The shortest path is ',Shortest_path)"
   ]
  },
  {
   "cell_type": "code",
   "execution_count": null,
   "metadata": {},
   "outputs": [],
   "source": []
  }
 ],
 "metadata": {
  "kernelspec": {
   "display_name": "Python 3",
   "language": "python",
   "name": "python3"
  },
  "language_info": {
   "codemirror_mode": {
    "name": "ipython",
    "version": 3
   },
   "file_extension": ".py",
   "mimetype": "text/x-python",
   "name": "python",
   "nbconvert_exporter": "python",
   "pygments_lexer": "ipython3",
   "version": "3.8.3"
  }
 },
 "nbformat": 4,
 "nbformat_minor": 2
}
