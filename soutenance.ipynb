{
 "cells": [
  {
   "cell_type": "markdown",
   "metadata": {
    "colab_type": "text",
    "id": "5_YuTynri7zM",
    "slideshow": {
     "slide_type": "slide"
    }
   },
   "source": [
    "# TER - Visualiser l'Alogorithme Ford Fulkerson et Dijkstra avec Jupyter\n",
    "\n",
    "### Tingting ZHU & Yu YANG\n",
    "\n",
    "---\n",
    "\n",
    "* Introduction\n",
    "      1.   Contexte\n",
    "      2.   Motivation et objectif\n",
    "      3.   Introduction de Jupyter\n",
    "\n",
    "\n",
    "* Etapes de réalisation\n",
    "       1.  Algorithme de Ford-Fulkerson\n",
    "       2.  Algorithme de Dijkstra\n",
    "* Conclusion\n",
    "\n",
    "\n",
    "---\n",
    "\n"
   ]
  },
  {
   "cell_type": "markdown",
   "metadata": {
    "colab_type": "text",
    "id": "tTLqZe9I62E9",
    "slideshow": {
     "slide_type": "slide"
    }
   },
   "source": [
    "# Contexte\n",
    "\n",
    "Ce projet TER(Travaille d'Etude et de Recherche) est de faire algorithmique interactive avec Jupyter. Nous l'utilisons pour modéliser l'algorithme de Ford-Fulkerson et de Dijkstra."
   ]
  },
  {
   "cell_type": "markdown",
   "metadata": {
    "colab_type": "text",
    "id": "FIj2kVad_oOL",
    "slideshow": {
     "slide_type": "subslide"
    }
   },
   "source": [
    "# Motivation et objectif\n",
    "Pendant le cours d'algorithme, on a pris beaucoup de algorithme pour trouver le plus court chemin, tel que Flot Max(Ford-Fulkerson) et Dijkstra. Afin de pouvoir visualiser le processus d'exécution de l'algorithme, nous programmons en Python avec Jupyter"
   ]
  },
  {
   "cell_type": "markdown",
   "metadata": {
    "colab_type": "text",
    "id": "87wG6WrSBOPD",
    "slideshow": {
     "slide_type": "subslide"
    }
   },
   "source": [
    "# Introduction de Jupyter\n",
    "Jupyter Notebook est une application Web qui facilite la création et le partage de documents de programmes. Il permet de exécuter les codes cellule par cellule et propose beaucoup de outils de visualisation."
   ]
  },
  {
   "cell_type": "markdown",
   "metadata": {
    "colab_type": "text",
    "id": "sBrEtAuGCRNb",
    "slideshow": {
     "slide_type": "slide"
    }
   },
   "source": [
    "# Réaliser en l'algorithme Flot Max(Ford-Fulkerson)"
   ]
  },
  {
   "cell_type": "code",
   "execution_count": 19,
   "metadata": {
    "colab": {},
    "colab_type": "code",
    "id": "pXw4exsxJOj6",
    "slideshow": {
     "slide_type": "subslide"
    }
   },
   "outputs": [
    {
     "name": "stdout",
     "output_type": "stream",
     "text": [
      "Requirement already satisfied: valueplayerwidget in /home/yangyu/anaconda3/lib/python3.8/site-packages (0.1.4)\n",
      "Requirement already satisfied: ipywidgets in /home/yangyu/anaconda3/lib/python3.8/site-packages (from valueplayerwidget) (7.5.1)\n",
      "Requirement already satisfied: delpywidget in /home/yangyu/anaconda3/lib/python3.8/site-packages (from valueplayerwidget) (0.0.1)\n",
      "Requirement already satisfied: timer in /home/yangyu/anaconda3/lib/python3.8/site-packages (from valueplayerwidget) (1.0.0)\n",
      "Requirement already satisfied: nbformat>=4.2.0 in /home/yangyu/anaconda3/lib/python3.8/site-packages (from ipywidgets->valueplayerwidget) (5.0.7)\n",
      "Requirement already satisfied: ipython>=4.0.0; python_version >= \"3.3\" in /home/yangyu/anaconda3/lib/python3.8/site-packages (from ipywidgets->valueplayerwidget) (7.16.1)\n",
      "Requirement already satisfied: widgetsnbextension~=3.5.0 in /home/yangyu/anaconda3/lib/python3.8/site-packages (from ipywidgets->valueplayerwidget) (3.5.1)\n",
      "Requirement already satisfied: ipykernel>=4.5.1 in /home/yangyu/anaconda3/lib/python3.8/site-packages (from ipywidgets->valueplayerwidget) (5.3.2)\n",
      "Requirement already satisfied: traitlets>=4.3.1 in /home/yangyu/anaconda3/lib/python3.8/site-packages (from ipywidgets->valueplayerwidget) (4.3.3)\n",
      "Requirement already satisfied: jupyter in /home/yangyu/anaconda3/lib/python3.8/site-packages (from delpywidget->valueplayerwidget) (1.0.0)\n",
      "Requirement already satisfied: pytest in /home/yangyu/anaconda3/lib/python3.8/site-packages (from timer->valueplayerwidget) (5.4.3)\n",
      "Requirement already satisfied: ipython-genutils in /home/yangyu/anaconda3/lib/python3.8/site-packages (from nbformat>=4.2.0->ipywidgets->valueplayerwidget) (0.2.0)\n",
      "Requirement already satisfied: jupyter-core in /home/yangyu/anaconda3/lib/python3.8/site-packages (from nbformat>=4.2.0->ipywidgets->valueplayerwidget) (4.6.3)\n",
      "Requirement already satisfied: jsonschema!=2.5.0,>=2.4 in /home/yangyu/anaconda3/lib/python3.8/site-packages (from nbformat>=4.2.0->ipywidgets->valueplayerwidget) (3.2.0)\n",
      "Requirement already satisfied: pygments in /home/yangyu/anaconda3/lib/python3.8/site-packages (from ipython>=4.0.0; python_version >= \"3.3\"->ipywidgets->valueplayerwidget) (2.6.1)\n",
      "Requirement already satisfied: decorator in /home/yangyu/anaconda3/lib/python3.8/site-packages (from ipython>=4.0.0; python_version >= \"3.3\"->ipywidgets->valueplayerwidget) (4.4.2)\n",
      "Requirement already satisfied: prompt-toolkit!=3.0.0,!=3.0.1,<3.1.0,>=2.0.0 in /home/yangyu/anaconda3/lib/python3.8/site-packages (from ipython>=4.0.0; python_version >= \"3.3\"->ipywidgets->valueplayerwidget) (3.0.5)\n",
      "Requirement already satisfied: pickleshare in /home/yangyu/anaconda3/lib/python3.8/site-packages (from ipython>=4.0.0; python_version >= \"3.3\"->ipywidgets->valueplayerwidget) (0.7.5)\n",
      "Requirement already satisfied: setuptools>=18.5 in /home/yangyu/anaconda3/lib/python3.8/site-packages (from ipython>=4.0.0; python_version >= \"3.3\"->ipywidgets->valueplayerwidget) (49.2.0.post20200714)\n",
      "Requirement already satisfied: pexpect; sys_platform != \"win32\" in /home/yangyu/anaconda3/lib/python3.8/site-packages (from ipython>=4.0.0; python_version >= \"3.3\"->ipywidgets->valueplayerwidget) (4.8.0)\n",
      "Requirement already satisfied: jedi>=0.10 in /home/yangyu/anaconda3/lib/python3.8/site-packages (from ipython>=4.0.0; python_version >= \"3.3\"->ipywidgets->valueplayerwidget) (0.17.1)\n",
      "Requirement already satisfied: backcall in /home/yangyu/anaconda3/lib/python3.8/site-packages (from ipython>=4.0.0; python_version >= \"3.3\"->ipywidgets->valueplayerwidget) (0.2.0)\n",
      "Requirement already satisfied: notebook>=4.4.1 in /home/yangyu/anaconda3/lib/python3.8/site-packages (from widgetsnbextension~=3.5.0->ipywidgets->valueplayerwidget) (6.0.3)\n",
      "Requirement already satisfied: jupyter-client in /home/yangyu/anaconda3/lib/python3.8/site-packages (from ipykernel>=4.5.1->ipywidgets->valueplayerwidget) (6.1.6)\n",
      "Requirement already satisfied: tornado>=4.2 in /home/yangyu/anaconda3/lib/python3.8/site-packages (from ipykernel>=4.5.1->ipywidgets->valueplayerwidget) (6.0.4)\n",
      "Requirement already satisfied: six in /home/yangyu/anaconda3/lib/python3.8/site-packages (from traitlets>=4.3.1->ipywidgets->valueplayerwidget) (1.15.0)\n",
      "Requirement already satisfied: nbconvert in /home/yangyu/anaconda3/lib/python3.8/site-packages (from jupyter->delpywidget->valueplayerwidget) (5.6.1)\n",
      "Requirement already satisfied: qtconsole in /home/yangyu/anaconda3/lib/python3.8/site-packages (from jupyter->delpywidget->valueplayerwidget) (4.7.5)\n",
      "Requirement already satisfied: jupyter-console in /home/yangyu/anaconda3/lib/python3.8/site-packages (from jupyter->delpywidget->valueplayerwidget) (6.1.0)\n",
      "Requirement already satisfied: py>=1.5.0 in /home/yangyu/anaconda3/lib/python3.8/site-packages (from pytest->timer->valueplayerwidget) (1.9.0)\n",
      "Requirement already satisfied: packaging in /home/yangyu/anaconda3/lib/python3.8/site-packages (from pytest->timer->valueplayerwidget) (20.4)\n",
      "Requirement already satisfied: attrs>=17.4.0 in /home/yangyu/anaconda3/lib/python3.8/site-packages (from pytest->timer->valueplayerwidget) (19.3.0)\n",
      "Requirement already satisfied: more-itertools>=4.0.0 in /home/yangyu/anaconda3/lib/python3.8/site-packages (from pytest->timer->valueplayerwidget) (8.4.0)\n",
      "Requirement already satisfied: pluggy<1.0,>=0.12 in /home/yangyu/anaconda3/lib/python3.8/site-packages (from pytest->timer->valueplayerwidget) (0.13.1)\n",
      "Requirement already satisfied: wcwidth in /home/yangyu/anaconda3/lib/python3.8/site-packages (from pytest->timer->valueplayerwidget) (0.2.5)\n",
      "Requirement already satisfied: pyrsistent>=0.14.0 in /home/yangyu/anaconda3/lib/python3.8/site-packages (from jsonschema!=2.5.0,>=2.4->nbformat>=4.2.0->ipywidgets->valueplayerwidget) (0.16.0)\n",
      "Requirement already satisfied: ptyprocess>=0.5 in /home/yangyu/anaconda3/lib/python3.8/site-packages (from pexpect; sys_platform != \"win32\"->ipython>=4.0.0; python_version >= \"3.3\"->ipywidgets->valueplayerwidget) (0.6.0)\n",
      "Requirement already satisfied: parso<0.8.0,>=0.7.0 in /home/yangyu/anaconda3/lib/python3.8/site-packages (from jedi>=0.10->ipython>=4.0.0; python_version >= \"3.3\"->ipywidgets->valueplayerwidget) (0.7.0)\n",
      "Requirement already satisfied: terminado>=0.8.1 in /home/yangyu/anaconda3/lib/python3.8/site-packages (from notebook>=4.4.1->widgetsnbextension~=3.5.0->ipywidgets->valueplayerwidget) (0.8.3)\n",
      "Requirement already satisfied: Send2Trash in /home/yangyu/anaconda3/lib/python3.8/site-packages (from notebook>=4.4.1->widgetsnbextension~=3.5.0->ipywidgets->valueplayerwidget) (1.5.0)\n",
      "Requirement already satisfied: pyzmq>=17 in /home/yangyu/anaconda3/lib/python3.8/site-packages (from notebook>=4.4.1->widgetsnbextension~=3.5.0->ipywidgets->valueplayerwidget) (19.0.1)\n",
      "Requirement already satisfied: jinja2 in /home/yangyu/anaconda3/lib/python3.8/site-packages (from notebook>=4.4.1->widgetsnbextension~=3.5.0->ipywidgets->valueplayerwidget) (2.11.2)\n",
      "Requirement already satisfied: prometheus-client in /home/yangyu/anaconda3/lib/python3.8/site-packages (from notebook>=4.4.1->widgetsnbextension~=3.5.0->ipywidgets->valueplayerwidget) (0.8.0)\n",
      "Requirement already satisfied: python-dateutil>=2.1 in /home/yangyu/anaconda3/lib/python3.8/site-packages (from jupyter-client->ipykernel>=4.5.1->ipywidgets->valueplayerwidget) (2.8.1)\n",
      "Requirement already satisfied: entrypoints>=0.2.2 in /home/yangyu/anaconda3/lib/python3.8/site-packages (from nbconvert->jupyter->delpywidget->valueplayerwidget) (0.3)\n",
      "Requirement already satisfied: testpath in /home/yangyu/anaconda3/lib/python3.8/site-packages (from nbconvert->jupyter->delpywidget->valueplayerwidget) (0.4.4)\n",
      "Requirement already satisfied: mistune<2,>=0.8.1 in /home/yangyu/anaconda3/lib/python3.8/site-packages (from nbconvert->jupyter->delpywidget->valueplayerwidget) (0.8.4)\n",
      "Requirement already satisfied: defusedxml in /home/yangyu/anaconda3/lib/python3.8/site-packages (from nbconvert->jupyter->delpywidget->valueplayerwidget) (0.6.0)\n",
      "Requirement already satisfied: bleach in /home/yangyu/anaconda3/lib/python3.8/site-packages (from nbconvert->jupyter->delpywidget->valueplayerwidget) (3.1.5)\n",
      "Requirement already satisfied: pandocfilters>=1.4.1 in /home/yangyu/anaconda3/lib/python3.8/site-packages (from nbconvert->jupyter->delpywidget->valueplayerwidget) (1.4.2)\n",
      "Requirement already satisfied: qtpy in /home/yangyu/anaconda3/lib/python3.8/site-packages (from qtconsole->jupyter->delpywidget->valueplayerwidget) (1.9.0)\n",
      "Requirement already satisfied: pyparsing>=2.0.2 in /home/yangyu/anaconda3/lib/python3.8/site-packages (from packaging->pytest->timer->valueplayerwidget) (2.4.7)\n",
      "Requirement already satisfied: MarkupSafe>=0.23 in /home/yangyu/anaconda3/lib/python3.8/site-packages (from jinja2->notebook>=4.4.1->widgetsnbextension~=3.5.0->ipywidgets->valueplayerwidget) (1.1.1)\n",
      "Requirement already satisfied: webencodings in /home/yangyu/anaconda3/lib/python3.8/site-packages (from bleach->nbconvert->jupyter->delpywidget->valueplayerwidget) (0.5.1)\n",
      "Requirement already satisfied: networkx in /home/yangyu/anaconda3/lib/python3.8/site-packages (2.4)\n",
      "Requirement already satisfied: decorator>=4.3.0 in /home/yangyu/anaconda3/lib/python3.8/site-packages (from networkx) (4.4.2)\n",
      "Collecting dev\n",
      "  Cloning https://github.com/Edwauline/DelpyWidget.git to /tmp/pip-install-b380w8c6/dev\n",
      "  Running command git clone -q https://github.com/Edwauline/DelpyWidget.git /tmp/pip-install-b380w8c6/dev\n",
      "\u001b[33m  WARNING: Generating metadata for package dev produced metadata for project name delpywidget. Fix your #egg=dev fragments.\u001b[0m\n",
      "Requirement already satisfied (use --upgrade to upgrade): delpywidget from git+https://github.com/Edwauline/DelpyWidget.git#egg=dev in /home/yangyu/anaconda3/lib/python3.8/site-packages\n",
      "Requirement already satisfied: jupyter in /home/yangyu/anaconda3/lib/python3.8/site-packages (from delpywidget) (1.0.0)\n",
      "Requirement already satisfied: notebook in /home/yangyu/anaconda3/lib/python3.8/site-packages (from jupyter->delpywidget) (6.0.3)\n",
      "Requirement already satisfied: ipywidgets in /home/yangyu/anaconda3/lib/python3.8/site-packages (from jupyter->delpywidget) (7.5.1)\n",
      "Requirement already satisfied: jupyter-console in /home/yangyu/anaconda3/lib/python3.8/site-packages (from jupyter->delpywidget) (6.1.0)\n",
      "Requirement already satisfied: nbconvert in /home/yangyu/anaconda3/lib/python3.8/site-packages (from jupyter->delpywidget) (5.6.1)\n",
      "Requirement already satisfied: qtconsole in /home/yangyu/anaconda3/lib/python3.8/site-packages (from jupyter->delpywidget) (4.7.5)\n",
      "Requirement already satisfied: ipykernel in /home/yangyu/anaconda3/lib/python3.8/site-packages (from jupyter->delpywidget) (5.3.2)\n",
      "Requirement already satisfied: jupyter-client>=5.3.4 in /home/yangyu/anaconda3/lib/python3.8/site-packages (from notebook->jupyter->delpywidget) (6.1.6)\n",
      "Requirement already satisfied: tornado>=5.0 in /home/yangyu/anaconda3/lib/python3.8/site-packages (from notebook->jupyter->delpywidget) (6.0.4)\n",
      "Requirement already satisfied: Send2Trash in /home/yangyu/anaconda3/lib/python3.8/site-packages (from notebook->jupyter->delpywidget) (1.5.0)\n",
      "Requirement already satisfied: nbformat in /home/yangyu/anaconda3/lib/python3.8/site-packages (from notebook->jupyter->delpywidget) (5.0.7)\n",
      "Requirement already satisfied: jupyter-core>=4.6.1 in /home/yangyu/anaconda3/lib/python3.8/site-packages (from notebook->jupyter->delpywidget) (4.6.3)\n",
      "Requirement already satisfied: prometheus-client in /home/yangyu/anaconda3/lib/python3.8/site-packages (from notebook->jupyter->delpywidget) (0.8.0)\n",
      "Requirement already satisfied: pyzmq>=17 in /home/yangyu/anaconda3/lib/python3.8/site-packages (from notebook->jupyter->delpywidget) (19.0.1)\n",
      "Requirement already satisfied: terminado>=0.8.1 in /home/yangyu/anaconda3/lib/python3.8/site-packages (from notebook->jupyter->delpywidget) (0.8.3)\n",
      "Requirement already satisfied: jinja2 in /home/yangyu/anaconda3/lib/python3.8/site-packages (from notebook->jupyter->delpywidget) (2.11.2)\n",
      "Requirement already satisfied: traitlets>=4.2.1 in /home/yangyu/anaconda3/lib/python3.8/site-packages (from notebook->jupyter->delpywidget) (4.3.3)\n",
      "Requirement already satisfied: ipython-genutils in /home/yangyu/anaconda3/lib/python3.8/site-packages (from notebook->jupyter->delpywidget) (0.2.0)\n",
      "Requirement already satisfied: ipython>=4.0.0; python_version >= \"3.3\" in /home/yangyu/anaconda3/lib/python3.8/site-packages (from ipywidgets->jupyter->delpywidget) (7.16.1)\n",
      "Requirement already satisfied: widgetsnbextension~=3.5.0 in /home/yangyu/anaconda3/lib/python3.8/site-packages (from ipywidgets->jupyter->delpywidget) (3.5.1)\n",
      "Requirement already satisfied: prompt-toolkit!=3.0.0,!=3.0.1,<3.1.0,>=2.0.0 in /home/yangyu/anaconda3/lib/python3.8/site-packages (from jupyter-console->jupyter->delpywidget) (3.0.5)\n",
      "Requirement already satisfied: pygments in /home/yangyu/anaconda3/lib/python3.8/site-packages (from jupyter-console->jupyter->delpywidget) (2.6.1)\n",
      "Requirement already satisfied: defusedxml in /home/yangyu/anaconda3/lib/python3.8/site-packages (from nbconvert->jupyter->delpywidget) (0.6.0)\n",
      "Requirement already satisfied: mistune<2,>=0.8.1 in /home/yangyu/anaconda3/lib/python3.8/site-packages (from nbconvert->jupyter->delpywidget) (0.8.4)\n",
      "Requirement already satisfied: testpath in /home/yangyu/anaconda3/lib/python3.8/site-packages (from nbconvert->jupyter->delpywidget) (0.4.4)\n",
      "Requirement already satisfied: entrypoints>=0.2.2 in /home/yangyu/anaconda3/lib/python3.8/site-packages (from nbconvert->jupyter->delpywidget) (0.3)\n",
      "Requirement already satisfied: bleach in /home/yangyu/anaconda3/lib/python3.8/site-packages (from nbconvert->jupyter->delpywidget) (3.1.5)\n",
      "Requirement already satisfied: pandocfilters>=1.4.1 in /home/yangyu/anaconda3/lib/python3.8/site-packages (from nbconvert->jupyter->delpywidget) (1.4.2)\n",
      "Requirement already satisfied: qtpy in /home/yangyu/anaconda3/lib/python3.8/site-packages (from qtconsole->jupyter->delpywidget) (1.9.0)\n",
      "Requirement already satisfied: python-dateutil>=2.1 in /home/yangyu/anaconda3/lib/python3.8/site-packages (from jupyter-client>=5.3.4->notebook->jupyter->delpywidget) (2.8.1)\n",
      "Requirement already satisfied: jsonschema!=2.5.0,>=2.4 in /home/yangyu/anaconda3/lib/python3.8/site-packages (from nbformat->notebook->jupyter->delpywidget) (3.2.0)\n",
      "Requirement already satisfied: MarkupSafe>=0.23 in /home/yangyu/anaconda3/lib/python3.8/site-packages (from jinja2->notebook->jupyter->delpywidget) (1.1.1)\n",
      "Requirement already satisfied: decorator in /home/yangyu/anaconda3/lib/python3.8/site-packages (from traitlets>=4.2.1->notebook->jupyter->delpywidget) (4.4.2)\n",
      "Requirement already satisfied: six in /home/yangyu/anaconda3/lib/python3.8/site-packages (from traitlets>=4.2.1->notebook->jupyter->delpywidget) (1.15.0)\n",
      "Requirement already satisfied: jedi>=0.10 in /home/yangyu/anaconda3/lib/python3.8/site-packages (from ipython>=4.0.0; python_version >= \"3.3\"->ipywidgets->jupyter->delpywidget) (0.17.1)\n",
      "Requirement already satisfied: pickleshare in /home/yangyu/anaconda3/lib/python3.8/site-packages (from ipython>=4.0.0; python_version >= \"3.3\"->ipywidgets->jupyter->delpywidget) (0.7.5)\n",
      "Requirement already satisfied: setuptools>=18.5 in /home/yangyu/anaconda3/lib/python3.8/site-packages (from ipython>=4.0.0; python_version >= \"3.3\"->ipywidgets->jupyter->delpywidget) (49.2.0.post20200714)\n",
      "Requirement already satisfied: pexpect; sys_platform != \"win32\" in /home/yangyu/anaconda3/lib/python3.8/site-packages (from ipython>=4.0.0; python_version >= \"3.3\"->ipywidgets->jupyter->delpywidget) (4.8.0)\n",
      "Requirement already satisfied: backcall in /home/yangyu/anaconda3/lib/python3.8/site-packages (from ipython>=4.0.0; python_version >= \"3.3\"->ipywidgets->jupyter->delpywidget) (0.2.0)\n",
      "Requirement already satisfied: wcwidth in /home/yangyu/anaconda3/lib/python3.8/site-packages (from prompt-toolkit!=3.0.0,!=3.0.1,<3.1.0,>=2.0.0->jupyter-console->jupyter->delpywidget) (0.2.5)\n",
      "Requirement already satisfied: packaging in /home/yangyu/anaconda3/lib/python3.8/site-packages (from bleach->nbconvert->jupyter->delpywidget) (20.4)\n",
      "Requirement already satisfied: webencodings in /home/yangyu/anaconda3/lib/python3.8/site-packages (from bleach->nbconvert->jupyter->delpywidget) (0.5.1)\n",
      "Requirement already satisfied: attrs>=17.4.0 in /home/yangyu/anaconda3/lib/python3.8/site-packages (from jsonschema!=2.5.0,>=2.4->nbformat->notebook->jupyter->delpywidget) (19.3.0)\n",
      "Requirement already satisfied: pyrsistent>=0.14.0 in /home/yangyu/anaconda3/lib/python3.8/site-packages (from jsonschema!=2.5.0,>=2.4->nbformat->notebook->jupyter->delpywidget) (0.16.0)\n",
      "Requirement already satisfied: parso<0.8.0,>=0.7.0 in /home/yangyu/anaconda3/lib/python3.8/site-packages (from jedi>=0.10->ipython>=4.0.0; python_version >= \"3.3\"->ipywidgets->jupyter->delpywidget) (0.7.0)\n",
      "Requirement already satisfied: ptyprocess>=0.5 in /home/yangyu/anaconda3/lib/python3.8/site-packages (from pexpect; sys_platform != \"win32\"->ipython>=4.0.0; python_version >= \"3.3\"->ipywidgets->jupyter->delpywidget) (0.6.0)\n",
      "Requirement already satisfied: pyparsing>=2.0.2 in /home/yangyu/anaconda3/lib/python3.8/site-packages (from packaging->bleach->nbconvert->jupyter->delpywidget) (2.4.7)\n",
      "Building wheels for collected packages: delpywidget, delpywidget\n",
      "  Building wheel for delpywidget (setup.py) ... \u001b[?25ldone\n",
      "\u001b[?25h  Created wheel for delpywidget: filename=delpywidget-0.0.1-py3-none-any.whl size=21674 sha256=e7f49ef07bde45e8f72f5a0ad21ed4b21c064a9d332aa095b02a1beea23e0d37\n",
      "  Stored in directory: /tmp/pip-ephem-wheel-cache-moup23q4/wheels/88/b9/80/cef34774d33adc5500a59fc92c455f719e6ed24409b722d617\n",
      "  Building wheel for delpywidget (setup.py) ... \u001b[?25ldone\n",
      "\u001b[?25h  Created wheel for delpywidget: filename=delpywidget-0.0.1-py3-none-any.whl size=21674 sha256=e7f49ef07bde45e8f72f5a0ad21ed4b21c064a9d332aa095b02a1beea23e0d37\n",
      "  Stored in directory: /tmp/pip-ephem-wheel-cache-moup23q4/wheels/de/6b/05/5f9965cf9bb04b26c110a9282757423310b2873288ec16a6d2\n",
      "Successfully built delpywidget delpywidget\n",
      "Requirement already satisfied: bqplot in /home/yangyu/anaconda3/lib/python3.8/site-packages (0.12.14)\n",
      "Requirement already satisfied: traittypes>=0.0.6 in /home/yangyu/anaconda3/lib/python3.8/site-packages (from bqplot) (0.2.1)\n",
      "Requirement already satisfied: numpy>=1.10.4 in /home/yangyu/anaconda3/lib/python3.8/site-packages (from bqplot) (1.18.5)\n",
      "Requirement already satisfied: ipywidgets>=7.5.0 in /home/yangyu/anaconda3/lib/python3.8/site-packages (from bqplot) (7.5.1)\n",
      "Requirement already satisfied: traitlets>=4.3.0 in /home/yangyu/anaconda3/lib/python3.8/site-packages (from bqplot) (4.3.3)\n",
      "Requirement already satisfied: pandas in /home/yangyu/anaconda3/lib/python3.8/site-packages (from bqplot) (1.0.5)\n",
      "Requirement already satisfied: widgetsnbextension~=3.5.0 in /home/yangyu/anaconda3/lib/python3.8/site-packages (from ipywidgets>=7.5.0->bqplot) (3.5.1)\n",
      "Requirement already satisfied: nbformat>=4.2.0 in /home/yangyu/anaconda3/lib/python3.8/site-packages (from ipywidgets>=7.5.0->bqplot) (5.0.7)\n",
      "Requirement already satisfied: ipython>=4.0.0; python_version >= \"3.3\" in /home/yangyu/anaconda3/lib/python3.8/site-packages (from ipywidgets>=7.5.0->bqplot) (7.16.1)\n",
      "Requirement already satisfied: ipykernel>=4.5.1 in /home/yangyu/anaconda3/lib/python3.8/site-packages (from ipywidgets>=7.5.0->bqplot) (5.3.2)\n",
      "Requirement already satisfied: ipython-genutils in /home/yangyu/anaconda3/lib/python3.8/site-packages (from traitlets>=4.3.0->bqplot) (0.2.0)\n",
      "Requirement already satisfied: decorator in /home/yangyu/anaconda3/lib/python3.8/site-packages (from traitlets>=4.3.0->bqplot) (4.4.2)\n",
      "Requirement already satisfied: six in /home/yangyu/anaconda3/lib/python3.8/site-packages (from traitlets>=4.3.0->bqplot) (1.15.0)\n",
      "Requirement already satisfied: pytz>=2017.2 in /home/yangyu/anaconda3/lib/python3.8/site-packages (from pandas->bqplot) (2020.1)\n",
      "Requirement already satisfied: python-dateutil>=2.6.1 in /home/yangyu/anaconda3/lib/python3.8/site-packages (from pandas->bqplot) (2.8.1)\n",
      "Requirement already satisfied: notebook>=4.4.1 in /home/yangyu/anaconda3/lib/python3.8/site-packages (from widgetsnbextension~=3.5.0->ipywidgets>=7.5.0->bqplot) (6.0.3)\n",
      "Requirement already satisfied: jsonschema!=2.5.0,>=2.4 in /home/yangyu/anaconda3/lib/python3.8/site-packages (from nbformat>=4.2.0->ipywidgets>=7.5.0->bqplot) (3.2.0)\n",
      "Requirement already satisfied: jupyter-core in /home/yangyu/anaconda3/lib/python3.8/site-packages (from nbformat>=4.2.0->ipywidgets>=7.5.0->bqplot) (4.6.3)\n",
      "Requirement already satisfied: setuptools>=18.5 in /home/yangyu/anaconda3/lib/python3.8/site-packages (from ipython>=4.0.0; python_version >= \"3.3\"->ipywidgets>=7.5.0->bqplot) (49.2.0.post20200714)\n",
      "Requirement already satisfied: pickleshare in /home/yangyu/anaconda3/lib/python3.8/site-packages (from ipython>=4.0.0; python_version >= \"3.3\"->ipywidgets>=7.5.0->bqplot) (0.7.5)\n",
      "Requirement already satisfied: jedi>=0.10 in /home/yangyu/anaconda3/lib/python3.8/site-packages (from ipython>=4.0.0; python_version >= \"3.3\"->ipywidgets>=7.5.0->bqplot) (0.17.1)\n",
      "Requirement already satisfied: pexpect; sys_platform != \"win32\" in /home/yangyu/anaconda3/lib/python3.8/site-packages (from ipython>=4.0.0; python_version >= \"3.3\"->ipywidgets>=7.5.0->bqplot) (4.8.0)\n",
      "Requirement already satisfied: backcall in /home/yangyu/anaconda3/lib/python3.8/site-packages (from ipython>=4.0.0; python_version >= \"3.3\"->ipywidgets>=7.5.0->bqplot) (0.2.0)\n",
      "Requirement already satisfied: pygments in /home/yangyu/anaconda3/lib/python3.8/site-packages (from ipython>=4.0.0; python_version >= \"3.3\"->ipywidgets>=7.5.0->bqplot) (2.6.1)\n",
      "Requirement already satisfied: prompt-toolkit!=3.0.0,!=3.0.1,<3.1.0,>=2.0.0 in /home/yangyu/anaconda3/lib/python3.8/site-packages (from ipython>=4.0.0; python_version >= \"3.3\"->ipywidgets>=7.5.0->bqplot) (3.0.5)\n",
      "Requirement already satisfied: tornado>=4.2 in /home/yangyu/anaconda3/lib/python3.8/site-packages (from ipykernel>=4.5.1->ipywidgets>=7.5.0->bqplot) (6.0.4)\n",
      "Requirement already satisfied: jupyter-client in /home/yangyu/anaconda3/lib/python3.8/site-packages (from ipykernel>=4.5.1->ipywidgets>=7.5.0->bqplot) (6.1.6)\n",
      "Requirement already satisfied: pyzmq>=17 in /home/yangyu/anaconda3/lib/python3.8/site-packages (from notebook>=4.4.1->widgetsnbextension~=3.5.0->ipywidgets>=7.5.0->bqplot) (19.0.1)\n",
      "Requirement already satisfied: Send2Trash in /home/yangyu/anaconda3/lib/python3.8/site-packages (from notebook>=4.4.1->widgetsnbextension~=3.5.0->ipywidgets>=7.5.0->bqplot) (1.5.0)\n",
      "Requirement already satisfied: terminado>=0.8.1 in /home/yangyu/anaconda3/lib/python3.8/site-packages (from notebook>=4.4.1->widgetsnbextension~=3.5.0->ipywidgets>=7.5.0->bqplot) (0.8.3)\n",
      "Requirement already satisfied: prometheus-client in /home/yangyu/anaconda3/lib/python3.8/site-packages (from notebook>=4.4.1->widgetsnbextension~=3.5.0->ipywidgets>=7.5.0->bqplot) (0.8.0)\n",
      "Requirement already satisfied: jinja2 in /home/yangyu/anaconda3/lib/python3.8/site-packages (from notebook>=4.4.1->widgetsnbextension~=3.5.0->ipywidgets>=7.5.0->bqplot) (2.11.2)\n",
      "Requirement already satisfied: nbconvert in /home/yangyu/anaconda3/lib/python3.8/site-packages (from notebook>=4.4.1->widgetsnbextension~=3.5.0->ipywidgets>=7.5.0->bqplot) (5.6.1)\n",
      "Requirement already satisfied: pyrsistent>=0.14.0 in /home/yangyu/anaconda3/lib/python3.8/site-packages (from jsonschema!=2.5.0,>=2.4->nbformat>=4.2.0->ipywidgets>=7.5.0->bqplot) (0.16.0)\n",
      "Requirement already satisfied: attrs>=17.4.0 in /home/yangyu/anaconda3/lib/python3.8/site-packages (from jsonschema!=2.5.0,>=2.4->nbformat>=4.2.0->ipywidgets>=7.5.0->bqplot) (19.3.0)\n",
      "Requirement already satisfied: parso<0.8.0,>=0.7.0 in /home/yangyu/anaconda3/lib/python3.8/site-packages (from jedi>=0.10->ipython>=4.0.0; python_version >= \"3.3\"->ipywidgets>=7.5.0->bqplot) (0.7.0)\n",
      "Requirement already satisfied: ptyprocess>=0.5 in /home/yangyu/anaconda3/lib/python3.8/site-packages (from pexpect; sys_platform != \"win32\"->ipython>=4.0.0; python_version >= \"3.3\"->ipywidgets>=7.5.0->bqplot) (0.6.0)\n",
      "Requirement already satisfied: wcwidth in /home/yangyu/anaconda3/lib/python3.8/site-packages (from prompt-toolkit!=3.0.0,!=3.0.1,<3.1.0,>=2.0.0->ipython>=4.0.0; python_version >= \"3.3\"->ipywidgets>=7.5.0->bqplot) (0.2.5)\n",
      "Requirement already satisfied: MarkupSafe>=0.23 in /home/yangyu/anaconda3/lib/python3.8/site-packages (from jinja2->notebook>=4.4.1->widgetsnbextension~=3.5.0->ipywidgets>=7.5.0->bqplot) (1.1.1)\n",
      "Requirement already satisfied: pandocfilters>=1.4.1 in /home/yangyu/anaconda3/lib/python3.8/site-packages (from nbconvert->notebook>=4.4.1->widgetsnbextension~=3.5.0->ipywidgets>=7.5.0->bqplot) (1.4.2)\n",
      "Requirement already satisfied: defusedxml in /home/yangyu/anaconda3/lib/python3.8/site-packages (from nbconvert->notebook>=4.4.1->widgetsnbextension~=3.5.0->ipywidgets>=7.5.0->bqplot) (0.6.0)\n",
      "Requirement already satisfied: testpath in /home/yangyu/anaconda3/lib/python3.8/site-packages (from nbconvert->notebook>=4.4.1->widgetsnbextension~=3.5.0->ipywidgets>=7.5.0->bqplot) (0.4.4)\n",
      "Requirement already satisfied: mistune<2,>=0.8.1 in /home/yangyu/anaconda3/lib/python3.8/site-packages (from nbconvert->notebook>=4.4.1->widgetsnbextension~=3.5.0->ipywidgets>=7.5.0->bqplot) (0.8.4)\n",
      "Requirement already satisfied: bleach in /home/yangyu/anaconda3/lib/python3.8/site-packages (from nbconvert->notebook>=4.4.1->widgetsnbextension~=3.5.0->ipywidgets>=7.5.0->bqplot) (3.1.5)\n",
      "Requirement already satisfied: entrypoints>=0.2.2 in /home/yangyu/anaconda3/lib/python3.8/site-packages (from nbconvert->notebook>=4.4.1->widgetsnbextension~=3.5.0->ipywidgets>=7.5.0->bqplot) (0.3)\n",
      "Requirement already satisfied: packaging in /home/yangyu/anaconda3/lib/python3.8/site-packages (from bleach->nbconvert->notebook>=4.4.1->widgetsnbextension~=3.5.0->ipywidgets>=7.5.0->bqplot) (20.4)\n",
      "Requirement already satisfied: webencodings in /home/yangyu/anaconda3/lib/python3.8/site-packages (from bleach->nbconvert->notebook>=4.4.1->widgetsnbextension~=3.5.0->ipywidgets>=7.5.0->bqplot) (0.5.1)\n",
      "Requirement already satisfied: pyparsing>=2.0.2 in /home/yangyu/anaconda3/lib/python3.8/site-packages (from packaging->bleach->nbconvert->notebook>=4.4.1->widgetsnbextension~=3.5.0->ipywidgets>=7.5.0->bqplot) (2.4.7)\n",
      "Requirement already satisfied: matplotlib in /home/yangyu/anaconda3/lib/python3.8/site-packages (3.2.2)\n",
      "Requirement already satisfied: kiwisolver>=1.0.1 in /home/yangyu/anaconda3/lib/python3.8/site-packages (from matplotlib) (1.2.0)\n",
      "Requirement already satisfied: cycler>=0.10 in /home/yangyu/anaconda3/lib/python3.8/site-packages (from matplotlib) (0.10.0)\n",
      "Requirement already satisfied: pyparsing!=2.0.4,!=2.1.2,!=2.1.6,>=2.0.1 in /home/yangyu/anaconda3/lib/python3.8/site-packages (from matplotlib) (2.4.7)\n",
      "Requirement already satisfied: python-dateutil>=2.1 in /home/yangyu/anaconda3/lib/python3.8/site-packages (from matplotlib) (2.8.1)\n",
      "Requirement already satisfied: numpy>=1.11 in /home/yangyu/anaconda3/lib/python3.8/site-packages (from matplotlib) (1.18.5)\n",
      "Requirement already satisfied: six in /home/yangyu/anaconda3/lib/python3.8/site-packages (from cycler>=0.10->matplotlib) (1.15.0)\n"
     ]
    }
   ],
   "source": [
    "!pip install valueplayerwidget\n",
    "!pip install networkx\n",
    "!pip install git+https://github.com/Edwauline/DelpyWidget.git#egg=dev\n",
    "!pip install bqplot\n",
    "!pip install matplotlib"
   ]
  },
  {
   "cell_type": "code",
   "execution_count": 20,
   "metadata": {
    "colab": {},
    "colab_type": "code",
    "id": "_jDnK0BuCbEA",
    "slideshow": {
     "slide_type": "subslide"
    }
   },
   "outputs": [],
   "source": [
    "import networkx as nx\n",
    "from GraphAlgorithmPlayer import GraphAlgorithmPlayer\n",
    "import copy"
   ]
  },
  {
   "cell_type": "code",
   "execution_count": 21,
   "metadata": {
    "colab": {},
    "colab_type": "code",
    "id": "4TdrwgrACq_o",
    "slideshow": {
     "slide_type": "subslide"
    }
   },
   "outputs": [],
   "source": [
    "variables=[\n",
    "          {'name': 'G',          'type':'graph'                                     },\n",
    "          {'name':'edge_liste_path',      'type':'edges', 'color': 'red', 'display':True   },\n",
    "          {'name':'edge_labels',    'type':'edges', 'label': True,    'display': False },\n",
    "          {'name':'node_labels',        'type':'nodes', 'label': True,    'display': False },\n",
    "          {'name':'flow',        'type':'nodes',   'display': True },\n",
    "          {'name':'flot_ajoute',        'type':'nodes',   'display': True }\n",
    "          ]"
   ]
  },
  {
   "cell_type": "code",
   "execution_count": 22,
   "metadata": {
    "colab": {},
    "colab_type": "code",
    "id": "B971Cy0hC-UR",
    "slideshow": {
     "slide_type": "subslide"
    }
   },
   "outputs": [],
   "source": [
    "class Edge(object):\n",
    "    def __init__(self, u, v, w):\n",
    "        self.source = u\n",
    "        self.sink = v  \n",
    "        self.capacity = w\n",
    "    def __repr__(self):\n",
    "        return \"%s->%s:%s\" % (self.source, self.sink, self.capacity)"
   ]
  },
  {
   "cell_type": "code",
   "execution_count": 34,
   "metadata": {
    "colab": {},
    "colab_type": "code",
    "id": "4jQhxWVTC__a",
    "slideshow": {
     "slide_type": "subslide"
    }
   },
   "outputs": [],
   "source": [
    "class FlowNetwork(object):\n",
    "    def __init__(self):\n",
    "        self.adj = {}\n",
    "        self.flow = {}\n",
    " \n",
    "    def add_vertex(self, vertex):\n",
    "        self.adj[vertex] = []\n",
    " \n",
    "    def get_edges(self, v):\n",
    "        return self.adj[v]\n",
    " \n",
    "    def add_edge(self, u, v, w=0):\n",
    "        if u == v:\n",
    "            raise ValueError(\"u == v\")\n",
    "        edge = Edge(u,v,w)\n",
    "        redge = Edge(v,u,0)\n",
    "        edge.redge = redge\n",
    "        redge.redge = edge\n",
    "        self.adj[u].append(edge)\n",
    "        self.adj[v].append(redge)\n",
    "        self.flow[edge] = 0\n",
    "        self.flow[redge] = 0\n",
    " \n",
    "    def find_path(self, source, sink, path):\n",
    "        if source == sink:\n",
    "            return path\n",
    "        for edge in self.get_edges(source):\n",
    "            residual = edge.capacity - self.flow[edge]\n",
    "            if residual > 0 and edge not in path:\n",
    "                result = self.find_path( edge.sink, sink, path + [edge]) \n",
    "                if result != None:\n",
    "                    return result\n",
    " \n",
    "    def max_flow(self,G,source, sink): \n",
    "        pathG = {}\n",
    "        path = self.find_path(source, sink, [])     \n",
    "        while path != None:\n",
    "            #print(path)\n",
    "            residuals = [edge.capacity - self.flow[edge] for edge in path]\n",
    "            flow = min(residuals)\n",
    "            edge_liste_path = []\n",
    "            edge_path=(0,0)\n",
    "            for edge in path:\n",
    "                color_path = []\n",
    "                self.flow[edge] += flow\n",
    "                self.flow[edge.redge] -= flow\n",
    "                try:\n",
    "                    G[edge.source][edge.sink]['flow']\n",
    "                except KeyError:\n",
    "                    dict_exists = False\n",
    "                else:\n",
    "                    dict_exists = True\n",
    "                if(dict_exists):\n",
    "                    G[edge.source][edge.sink]['flow']+=flow\n",
    "                    edge_path = (edge.source,edge.sink)\n",
    "                else:\n",
    "                    G[edge.sink][edge.source]['flow']-=flow\n",
    "                    edge_path = (edge.sink,edge.source)\n",
    "                if(edge_path in edge_liste_path):\n",
    "                    edge_liste_path.remove(edge_path)\n",
    "                else : \n",
    "                    edge_liste_path.append(edge_path)\n",
    "\n",
    "            path = self.find_path(source, sink, [])\n",
    "            #npos=dict(zip(nodes,vnode))\n",
    "            \n",
    "            node_labels = dict()\n",
    "            for node in G.nodes:\n",
    "                node_labels[node] = str(node)\n",
    "            edge_labels=dict()\n",
    "            for edge in G.edges :\n",
    "                edge_labels[edge]=str(G.edges[edge]['flow']) + ' / ' + str(G.edges[edge]['weight'])\n",
    "            flot_ajoute = sum(self.flow[edge] for edge in self.get_edges(source))\n",
    "            player.set_value(copy.deepcopy(locals()))\n",
    "        return flot_ajoute"
   ]
  },
  {
   "cell_type": "code",
   "execution_count": 24,
   "metadata": {
    "colab": {},
    "colab_type": "code",
    "id": "lYy4G4nADCM5",
    "slideshow": {
     "slide_type": "subslide"
    }
   },
   "outputs": [],
   "source": [
    "g=FlowNetwork()"
   ]
  },
  {
   "cell_type": "code",
   "execution_count": 25,
   "metadata": {
    "colab": {},
    "colab_type": "code",
    "id": "R4EJ7kglDD1Q",
    "slideshow": {
     "slide_type": "subslide"
    }
   },
   "outputs": [
    {
     "name": "stdout",
     "output_type": "stream",
     "text": [
      "['s', 'o', 'p', 'q', 'r', 't']\n"
     ]
    }
   ],
   "source": [
    "file = open('dataFlot1.txt')\n",
    "line = file.readline()\n",
    "line = line.strip().split(' ')\n",
    "print(line)\n",
    "G = nx.DiGraph()\n",
    "[G.add_node(v) for v in line]\n",
    "[g.add_vertex(v) for v in line]\n",
    "line = file.readline()\n",
    "while line:\n",
    "    line = line.strip().split(' ')\n",
    "    G.add_edge(line[0],line[1],weight=int(line[2]),flow=0)\n",
    "    g.add_edge(line[0],line[1],int(line[2]))\n",
    "    line = file.readline()\n",
    "file.close()\n",
    "\n",
    "npos = nx.spring_layout(G)\n",
    "\n",
    "node_labels = dict()\n",
    "for node in G.nodes:\n",
    "     node_labels[node] = str(node)\n",
    "edge_labels= dict()\n",
    "for edge in G.edges :\n",
    "     edge_labels[edge]=str(G.edges[edge]['flow']) + ' / ' + str(G.edges[edge]['weight'])\n",
    "     #edge_labels[edge]=str(edge)\n",
    "#player.set_value(copy.deepcopy(locals()))"
   ]
  },
  {
   "cell_type": "code",
   "execution_count": 26,
   "metadata": {
    "colab": {},
    "colab_type": "code",
    "id": "JI2N7_S6DHHK",
    "slideshow": {
     "slide_type": "slide"
    }
   },
   "outputs": [
    {
     "data": {
      "application/vnd.jupyter.widget-view+json": {
       "model_id": "54caad7299c14b48ae20aa03dd6b4be3",
       "version_major": 2,
       "version_minor": 0
      },
      "text/plain": [
       "GraphAlgorithmPlayer(children=(GraphAlgorithmView(children=(GraphViewNx(), VariablesView(children=(Label(value…"
      ]
     },
     "metadata": {},
     "output_type": "display_data"
    }
   ],
   "source": [
    "player = GraphAlgorithmPlayer(G, variables=variables, view='networkx')\n",
    "player"
   ]
  },
  {
   "cell_type": "code",
   "execution_count": 27,
   "metadata": {
    "colab": {},
    "colab_type": "code",
    "id": "DBDU4XmKDIup",
    "slideshow": {
     "slide_type": "fragment"
    }
   },
   "outputs": [
    {
     "data": {
      "text/plain": [
       "5"
      ]
     },
     "execution_count": 27,
     "metadata": {},
     "output_type": "execute_result"
    }
   ],
   "source": [
    "g.max_flow(G, 's','t')"
   ]
  },
  {
   "cell_type": "markdown",
   "metadata": {
    "colab_type": "text",
    "id": "j1rpcCECDK4R",
    "slideshow": {
     "slide_type": "slide"
    }
   },
   "source": [
    "# Réaliser en l'algorithme Dijkstra"
   ]
  },
  {
   "cell_type": "code",
   "execution_count": 28,
   "metadata": {
    "colab": {},
    "colab_type": "code",
    "id": "lJCBz4akDP65",
    "slideshow": {
     "slide_type": "subslide"
    }
   },
   "outputs": [],
   "source": [
    "from collections import defaultdict\n",
    "from heapq import *\n",
    "import networkx as nx\n",
    "import matplotlib.pyplot as plt\n",
    "from GraphAlgorithmPlayer import GraphAlgorithmPlayer\n",
    "import copy\n"
   ]
  },
  {
   "cell_type": "code",
   "execution_count": 29,
   "metadata": {
    "colab": {},
    "colab_type": "code",
    "id": "RHT2TrCCDTlZ",
    "slideshow": {
     "slide_type": "subslide"
    }
   },
   "outputs": [],
   "source": [
    "variables=[\n",
    "          {'name': 'G',          'type':'graph'                                     },\n",
    "          {'name':'node_labels',        'type':'nodes', 'label': True,    'display': False },\n",
    "          {'name':'non_developpe',        'type':'nodes', 'color': 'green',   'display': True },\n",
    "          {'name':'developpe',        'type':'nodes', 'color': 'red',   'display': True },\n",
    "          {'name':'v1',        'type':'nodes', 'color': 'yellow',   'display': True },\n",
    "          {'name':'trajet',        'type':'nodes',    'display': True }\n",
    "          ]"
   ]
  },
  {
   "cell_type": "code",
   "execution_count": 30,
   "metadata": {
    "colab": {},
    "colab_type": "code",
    "id": "ELSlhgIyDWK5",
    "slideshow": {
     "slide_type": "subslide"
    }
   },
   "outputs": [],
   "source": [
    "def dijkstra_raw(G,edges, dep, dst):\n",
    "    g = defaultdict(list)\n",
    "    for u,v,p in edges:#u->v p:poids\n",
    "        g[u].append((p,v))\n",
    "    q, seen = [(0,dep,())], set()\n",
    "    developpe = []\n",
    "\n",
    "    while q:\n",
    "        non_developpe = []\n",
    "        (poid,v1,trajet) = heappop(q)\n",
    "        if v1 not in seen:\n",
    "            print('trajet',trajet)\n",
    "            seen.add(v1)\n",
    "            \n",
    "            list_v1=[]  #list de trajet : red\n",
    "            if len(trajet)>0:\n",
    "                u = trajet[0]\n",
    "                list_v1.append(u)    \n",
    "                v = trajet[1]\n",
    "                while len(v)>0:\n",
    "                    u = v[0]\n",
    "                    list_v1.append(u)    \n",
    "                    v = v[1]\n",
    "            \n",
    "            trajet = (v1, trajet)\n",
    "            developpe.append(v1)\n",
    "            if v1 == dst:\n",
    "                player.set_value(copy.deepcopy(locals()))\n",
    "                return poid,trajet\n",
    "            \n",
    "            list_v2 = []\n",
    "            for p, v2 in g.get(v1, ()):\n",
    "                if v2 not in seen:\n",
    "                    list_v2.append(v2)\n",
    "                    heappush(q, (poid+p, v2, trajet))\n",
    "            for i in q :\n",
    "                non_developpe.append(i[1])\n",
    "                    \n",
    "            player.set_value(copy.deepcopy(locals()))\n",
    "            \n",
    "            \n",
    "    return float(\"inf\"),[]\n",
    " \n",
    "def dijkstra(G,edges, dep, dst):\n",
    "    pcc = -1    #pcc:plus court chemin\n",
    "    ret_trajet=[]\n",
    "    longueur,trajet_queue = dijkstra_raw(G,edges, dep, dst)\n",
    "    if len(trajet_queue)>0:\n",
    "        pcc = longueur    ## 1. Get the length firstly;\n",
    "        ## 2. Decompose the path_queue, to get the passing nodes in the shortest path.\n",
    "        u = trajet_queue[0]\n",
    "        ret_trajet.append(u)    ## 2.1 Record the destination node firstly;\n",
    "        v = trajet_queue[1]\n",
    "        while len(v)>0:\n",
    "            u = v[0]\n",
    "            ret_trajet.append(u)    ## 2.2 Record other nodes, till the source-node.\n",
    "            v = v[1]\n",
    "        ret_trajet.reverse() ## 3. Reverse the list finally, to make it be normal sequence.\n",
    "    return pcc,ret_trajet\n",
    "\n"
   ]
  },
  {
   "cell_type": "code",
   "execution_count": 31,
   "metadata": {
    "colab": {},
    "colab_type": "code",
    "id": "DZXkU-nDDWvK",
    "slideshow": {
     "slide_type": "subslide"
    }
   },
   "outputs": [],
   "source": [
    "\n",
    "data =[('a','b',2),('a','c',3),('b','c',4),('b','d',3),('c','e',5),('d','f',2),('c','d',6),('f','g',4),('c','g',5)]\n",
    "\n",
    "G = nx.DiGraph()#.random_regular_graph\n",
    "G.add_weighted_edges_from(data)\n"
   ]
  },
  {
   "cell_type": "code",
   "execution_count": 32,
   "metadata": {
    "colab": {},
    "colab_type": "code",
    "id": "i3cd-K9SDYJp",
    "slideshow": {
     "slide_type": "slide"
    }
   },
   "outputs": [
    {
     "data": {
      "application/vnd.jupyter.widget-view+json": {
       "model_id": "e600b60a174144d988f830e3a9adfd1d",
       "version_major": 2,
       "version_minor": 0
      },
      "text/plain": [
       "GraphAlgorithmPlayer(children=(GraphAlgorithmView(children=(GraphViewNx(), VariablesView(children=(Label(value…"
      ]
     },
     "metadata": {},
     "output_type": "display_data"
    }
   ],
   "source": [
    "player = GraphAlgorithmPlayer(G, variables=variables, view='networkx')\n",
    "player"
   ]
  },
  {
   "cell_type": "code",
   "execution_count": 33,
   "metadata": {
    "colab": {},
    "colab_type": "code",
    "id": "TPxhVz5XDZf5",
    "slideshow": {
     "slide_type": "fragment"
    }
   },
   "outputs": [
    {
     "name": "stdout",
     "output_type": "stream",
     "text": [
      "trajet ()\n",
      "trajet ('a', ())\n",
      "trajet ('a', ())\n",
      "trajet ('b', ('a', ()))\n",
      "trajet ('d', ('b', ('a', ())))\n",
      "trajet ('c', ('a', ()))\n",
      "trajet ('c', ('a', ()))\n",
      "length =  8\n",
      "The shortest path is  ['a', 'c', 'g']\n"
     ]
    }
   ],
   "source": [
    "length,Shortest_path = dijkstra(G,data, 'a', 'g')\n",
    "print ('length = ',length)\n",
    "print ('The shortest path is ',Shortest_path)"
   ]
  },
  {
   "cell_type": "markdown",
   "metadata": {
    "colab_type": "text",
    "id": "0YanydTkDvKp",
    "slideshow": {
     "slide_type": "slide"
    }
   },
   "source": [
    "# Conclusion\n",
    "*  A traver la modélisations les deux algorithme avec Jupyter, nous avons famille avec des bibliothèque de Jupyter \n",
    "* Jupyter est plus simple pour tester les codes cellule par cellule\n",
    "* Jupyter est bien adapté aux objectifs de ce TER(algorithmique interactive)"
   ]
  }
 ],
 "metadata": {
  "celltoolbar": "Slideshow",
  "colab": {
   "name": "soutenance.ipynb",
   "provenance": []
  },
  "kernelspec": {
   "display_name": "Python 3",
   "language": "python",
   "name": "python3"
  },
  "language_info": {
   "codemirror_mode": {
    "name": "ipython",
    "version": 3
   },
   "file_extension": ".py",
   "mimetype": "text/x-python",
   "name": "python",
   "nbconvert_exporter": "python",
   "pygments_lexer": "ipython3",
   "version": "3.8.3"
  }
 },
 "nbformat": 4,
 "nbformat_minor": 1
}
