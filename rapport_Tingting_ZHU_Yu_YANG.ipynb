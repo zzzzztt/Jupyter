{
  "nbformat": 4,
  "nbformat_minor": 0,
  "metadata": {
    "colab": {
      "name": "rapport_Tingting_ZHU_Yu_YANG.ipynb",
      "provenance": [],
      "toc_visible": true
    },
    "kernelspec": {
      "name": "python3",
      "display_name": "Python 3"
    }
  },
  "cells": [
    {
      "cell_type": "markdown",
      "metadata": {
        "id": "5_YuTynri7zM",
        "colab_type": "text"
      },
      "source": [
        "# RAPPORT\n",
        "# TER - Adapter l'Alogorithme Ford Fulkerson et Dijkstra avec Jupyter\n",
        "\n",
        "### Tingting ZHU & Yu YANG\n",
        "\n",
        "---\n",
        "\n"
      ]
    },
    {
      "cell_type": "markdown",
      "metadata": {
        "id": "OnRpIe7HjKjP",
        "colab_type": "text"
      },
      "source": [
        "## 1.Introduction\n",
        "\n",
        "---\n",
        "### 1.1.   Contexte\n",
        "\n",
        "\n",
        "  > Ce projet TER(Travaille d'Etude et de Recherche) est pour apprendre Jupyter Notebook et maîtriser ses outils. Nous modélisons l'algorithme de \n",
        "  Ford-Fulkerson et Dijkstra et faisons visualiser chaque étape d'exécution de l'algorithme. \n",
        "\n",
        "\n",
        "### 1.2.   Motivation et Objectif\n",
        "\n",
        "  > Nous avons appris de nombreux algorithmes pour trouver le plus court chemin, comme Ford fulkerson et Dijkstra. Afin de pouvoir visualiser le processus d'exécution de l'algorithme, nous utilisons `networkx` pour dessiner le graphe , puis nous utilisons `GrapheAlgrithmPlayer` d'Edwige pour visualiser l'algorithme en traçant pour chaque étape d'exécution.\n",
        "\n",
        "\n",
        "### 1.3.   Introduction du Jupyter et GrapheAlgrithmPlayer\n",
        "\n",
        "*   #### Jupyter\n",
        "\n",
        "> Jupyter Notebook est une application Web qui facilite la création et le partage de documents de programmes(fichier se terminé par `.ipynb`), et supporte le code en temps réel, les équations mathématiques, la visualisation et markdown. Les utilisations comprennent: le nettoyage et la conversion de données, la simulation numérique, la modélisation statistique, l'apprentissage automatique, etc.\n",
        "\n",
        "> Jupyter Notebook dispose de deux modes de saisie au clavier. \n",
        "Le mode d'édition : \n",
        "vous permet de taper du code ou du texte dans la cellule, \n",
        "la cadre de la cellule est verte.\n",
        "En mode commande : \n",
        "le clavier entre la commande pour exécuter le programme,\n",
        "le cadre de la cellule est gris. Par exemple : Shift + Enter: Exécutez cette cellule et sélectionnez la cellule suivante;Ctrl + Entrée: exécuter cette cellule.\n",
        "\n",
        "*   #### GrapheAlgrithmPlayer\n",
        "\n",
        "> Visualisez comment un graphe est traité par un algorithme avec networkx ou bqplot grâce à un player. Instaler avec : pip install git+https://github.com/Edwauline/DelpyWidget.git#egg=dev\n",
        "\n",
        "\n",
        "\n",
        "\n",
        "---\n",
        "\n",
        "\n",
        "\n",
        "\n",
        "\n"
      ]
    },
    {
      "cell_type": "markdown",
      "metadata": {
        "id": "NZZqyUpiolna",
        "colab_type": "text"
      },
      "source": [
        "## 2. Algorithme utilisés\n",
        "\n",
        "---\n",
        "\n",
        "### 2.1.   Flot Maximum(Ford et Fulkerson)\n",
        "\n",
        "*  #### Définition\n",
        "> Étant donné un graphe orienté $ G=(V,E) $, où chaque arc $ u,v $ a une capacité $ c(u,v)$, on cherche un flot maximum $ f$ depuis la source $ s$ vers le puits $ t$, sous contrainte de capacité.\n",
        "\n",
        "*   #### Pseudo-code\n",
        "<img src=\"ford_fulkerson.png\">\n",
        "\n",
        "\n"
      ]
    },
    {
      "cell_type": "markdown",
      "metadata": {
        "id": "Vn80vHJBkV5W",
        "colab_type": "text"
      },
      "source": [
        "### 2.2.   Dijkstra\n",
        ">   L'algorithme de Dijkstra sert à calculer des plus courts chemins à partir d'une source vers tous les autres sommets dans un graphe orienté pondéré par des réels positifs. On peut aussi l'utiliser pour calculer un plus court chemin entre un sommet de départ et un sommet d'arrivée.\n",
        "* #### Pseudo-code\n",
        "\n",
        "> ##### Initialisation de l'algorithme \n",
        "```\n",
        "Initialisation(G,sdeb)\n",
        "1 pour chaque point s de G faire\n",
        "2    d[s] := infini             /* on initialise les sommets autres que sdeb à infini */\n",
        "3 fin pour\n",
        "4 d[sdeb] := 0                  /* la distance au sommet de départ sdeb est nulle */\n",
        "```\n",
        "\n",
        "> ##### Recherche d'un nœud de distance minimale\n",
        "\n",
        "\n",
        "*   On recherche un nœud de distance minimale (relié par l'arc de poids le plus faible) de $ s_{{deb}}$ parmi les nœuds situés hors de $ P $. Le complémentaire de $ P$ est noté $ Q $. On implémente pour cela une fonction *Trouve_min(Q)* qui choisit un nœud de Q de distance minimale.\n",
        "```\n",
        "Trouve_min(Q)\n",
        "1 mini := infini\n",
        "2 sommet := -1\n",
        "3 pour chaque sommet s de Q\n",
        "4    si d[s] < mini\n",
        "5    alors \n",
        "6        mini := d[s]\n",
        "7        sommet := s\n",
        "8 renvoyer sommet\n",
        "```\n",
        "\n",
        "> ##### Mise à jour des distances\n",
        "\n",
        "*   On met à jour les distances entre $ s_{{deb}} $ et $ s_{{2}}$ en se posant la question : vaut-il mieux passer par $ s_{{1}}$ ou pas ?\n",
        "```\n",
        "maj_distances(s1,s2)\n",
        "1 si d[s2] > d[s1] + Poids(s1,s2)      /* Si la distance de sdeb à s2 est plus grande que */\n",
        "2                         /* celle de sdeb à S1 plus celle de S1 à S2 */\n",
        "3 alors \n",
        "4   d[s2] := d[s1] + Poids(s1,s2) /* On prend ce nouveau chemin qui est plus court */\n",
        "5   prédécesseur[s2] := s1        /* En notant par où on passe */\n",
        "```\n",
        "\n",
        "---\n",
        "\n"
      ]
    },
    {
      "cell_type": "markdown",
      "metadata": {
        "id": "kpRUce-kU97W",
        "colab_type": "text"
      },
      "source": [
        "# 3. Démonstration\n",
        "\n",
        "---\n",
        "\n",
        "## 3.1 Flot Max(Ford-Fulkerson)\n",
        "\n",
        "\n",
        "* Importer des modules nécessaires\n",
        "\n"
      ]
    },
    {
      "cell_type": "code",
      "metadata": {
        "id": "gyn59eH-UdaQ",
        "colab_type": "code",
        "colab": {}
      },
      "source": [
        "import networkx as nx\n",
        "from GraphAlgorithmPlayer import GraphAlgorithmPlayer\n",
        "import copy"
      ],
      "execution_count": 8,
      "outputs": []
    },
    {
      "cell_type": "markdown",
      "metadata": {
        "id": "pK3KOK5jXlpg",
        "colab_type": "text"
      },
      "source": [
        "### 3.1.1 Implémentation de l'algorithme"
      ]
    },
    {
      "cell_type": "code",
      "metadata": {
        "id": "1WTtQ39FXm6e",
        "colab_type": "code",
        "colab": {}
      },
      "source": [
        "class FlowNetwork(object):\n",
        "    def __init__(self):\n",
        "        self.adj = {}\n",
        "        self.flow = {}\n",
        " \n",
        "    def add_vertex(self, vertex):\n",
        "        self.adj[vertex] = []\n",
        " \n",
        "    def get_edges(self, v):\n",
        "        return self.adj[v]\n",
        " \n",
        "    def add_edge(self, u, v, w=0):\n",
        "        if u == v:\n",
        "            raise ValueError(\"u == v\")\n",
        "        edge = Edge(u,v,w)\n",
        "        redge = Edge(v,u,0)\n",
        "        edge.redge = redge\n",
        "        redge.redge = edge\n",
        "        self.adj[u].append(edge)\n",
        "        self.adj[v].append(redge)\n",
        "        self.flow[edge] = 0\n",
        "        self.flow[redge] = 0\n",
        " \n",
        "    def find_path(self, source, sink, path):\n",
        "        if source == sink:\n",
        "            return path\n",
        "        for edge in self.get_edges(source):\n",
        "            residual = edge.capacity - self.flow[edge]\n",
        "            if residual > 0 and edge not in path:\n",
        "                result = self.find_path( edge.sink, sink, path + [edge]) \n",
        "                if result != None:\n",
        "                    return result\n",
        " \n",
        "    def max_flow(self,G,source, sink): \n",
        "        pathG = {}\n",
        "        path = self.find_path(source, sink, [])     \n",
        "        while path != None:\n",
        "            #print(path)\n",
        "            residuals = [edge.capacity - self.flow[edge] for edge in path]\n",
        "            flow = min(residuals)\n",
        "            edge_liste_path = []\n",
        "            edge_path=(0,0)\n",
        "            for edge in path:\n",
        "                color_path = []\n",
        "                self.flow[edge] += flow\n",
        "                self.flow[edge.redge] -= flow\n",
        "                try:\n",
        "                    G[edge.source][edge.sink]['flow']\n",
        "                except KeyError:\n",
        "                    dict_exists = False\n",
        "                else:\n",
        "                    dict_exists = True\n",
        "                if(dict_exists):\n",
        "                    G[edge.source][edge.sink]['flow']+=flow\n",
        "                    edge_path = (edge.source,edge.sink)\n",
        "                else:\n",
        "                    G[edge.sink][edge.source]['flow']-=flow\n",
        "                    edge_path = (edge.sink,edge.source)\n",
        "                if(edge_path in edge_liste_path):\n",
        "                    edge_liste_path.remove(edge_path)\n",
        "                else : \n",
        "                    edge_liste_path.append(edge_path)\n",
        "\n",
        "            path = self.find_path(source, sink, [])\n",
        "            #npos=dict(zip(nodes,vnode))\n",
        "            \n",
        "            node_labels = dict()\n",
        "            for node in G.nodes:\n",
        "                node_labels[node] = str(node)\n",
        "            edge_labels=dict()\n",
        "            for edge in G.edges :\n",
        "                edge_labels[edge]=str(G.edges[edge]['flow']) + ' / ' + str(G.edges[edge]['weight'])\n",
        "            flot_ajoute = sum(self.flow[edge] for edge in self.get_edges(source))\n",
        "            player.set_value(copy.deepcopy(locals()))\n",
        "        return flot_ajoute"
      ],
      "execution_count": 11,
      "outputs": []
    },
    {
      "cell_type": "markdown",
      "metadata": {
        "id": "T86mC84NUd-2",
        "colab_type": "text"
      },
      "source": [
        "\n",
        "### 3.1.2 Créer un graphe\n",
        "* l'attribut d'edge différent\n",
        "\n",
        "\n",
        "> edge rouge : chemin choisi de cette étape\n",
        "\n",
        "\n",
        "> edge noir : edge non choisi\n",
        "\n",
        "\n",
        "\n",
        "\n"
      ]
    },
    {
      "cell_type": "code",
      "metadata": {
        "id": "Gvm2hdpSWpn9",
        "colab_type": "code",
        "colab": {}
      },
      "source": [
        "variables=[\n",
        "          {'name': 'G',          'type':'graph'                                     },\n",
        "          {'name':'edge_liste_path',      'type':'edges', 'color': 'red', 'display':True   },\n",
        "          {'name':'edge_labels',    'type':'edges', 'label': True,    'display': False },\n",
        "          {'name':'node_labels',        'type':'nodes', 'label': True,    'display': False },\n",
        "          {'name':'flow',        'type':'nodes',   'display': True },\n",
        "          {'name':'flot_ajoute',        'type':'nodes',   'display': True }\n",
        "          ]"
      ],
      "execution_count": 14,
      "outputs": []
    },
    {
      "cell_type": "markdown",
      "metadata": {
        "id": "lHh1FxPKX2WF",
        "colab_type": "text"
      },
      "source": [
        "* chaque edge a son capacité propre"
      ]
    },
    {
      "cell_type": "code",
      "metadata": {
        "id": "UL4UAs37Wxm2",
        "colab_type": "code",
        "colab": {}
      },
      "source": [
        "class Edge(object):\n",
        "    def __init__(self, u, v, w):\n",
        "        self.source = u\n",
        "        self.sink = v  \n",
        "        self.capacity = w\n",
        "    def __repr__(self):\n",
        "        return \"%s->%s:%s\" % (self.source, self.sink, self.capacity)"
      ],
      "execution_count": 15,
      "outputs": []
    },
    {
      "cell_type": "markdown",
      "metadata": {
        "id": "1uhfDJ-yY-Tg",
        "colab_type": "text"
      },
      "source": [
        "* Créer le graphe vide"
      ]
    },
    {
      "cell_type": "code",
      "metadata": {
        "id": "gIexAlGYZGo-",
        "colab_type": "code",
        "colab": {}
      },
      "source": [
        "g=FlowNetwork()"
      ],
      "execution_count": 16,
      "outputs": []
    },
    {
      "cell_type": "markdown",
      "metadata": {
        "id": "Sfm5zbCAaMKv",
        "colab_type": "text"
      },
      "source": [
        "### 3.1.3 Lire le fichier `.txt` de graphe"
      ]
    },
    {
      "cell_type": "code",
      "metadata": {
        "id": "VFOGc708ahS1",
        "colab_type": "code",
        "colab": {}
      },
      "source": [
        "file = open('dataFlot1.txt') # dataFlot1.txt est le nom du fichier\n",
        "line = file.readline()\n",
        "line = line.strip().split(' ')\n",
        "print(line)\n",
        "G = nx.DiGraph()\n",
        "[G.add_node(v) for v in line]\n",
        "[g.add_vertex(v) for v in line]\n",
        "line = file.readline()\n",
        "while line:\n",
        "    line = line.strip().split(' ')\n",
        "    G.add_edge(line[0],line[1],weight=int(line[2]),flow=0)\n",
        "    g.add_edge(line[0],line[1],int(line[2]))\n",
        "    line = file.readline()\n",
        "file.close()\n",
        "\n",
        "npos = nx.spring_layout(G)\n",
        "\n",
        "node_labels = dict()\n",
        "for node in G.nodes:\n",
        "     node_labels[node] = str(node)\n",
        "edge_labels= dict()\n",
        "for edge in G.edges :\n",
        "     edge_labels[edge]=str(G.edges[edge]['flow']) + ' / ' + str(G.edges[edge]['weight'])"
      ],
      "execution_count": null,
      "outputs": []
    },
    {
      "cell_type": "markdown",
      "metadata": {
        "id": "cS6T_AFUWp0_",
        "colab_type": "text"
      },
      "source": [
        "\n",
        "### 3.1.4 Visualisation\n",
        "\n",
        "\n",
        "* dessiner le graphe\n"
      ]
    },
    {
      "cell_type": "code",
      "metadata": {
        "id": "lE2w_P9SZY3m",
        "colab_type": "code",
        "colab": {}
      },
      "source": [
        "player = GraphAlgorithmPlayer(G, variables=variables, view='networkx')\n",
        "player\n"
      ],
      "execution_count": null,
      "outputs": []
    },
    {
      "cell_type": "markdown",
      "metadata": {
        "id": "dNFdXFyra5U4",
        "colab_type": "text"
      },
      "source": [
        "* trouver le plus court chemin étape par étape"
      ]
    },
    {
      "cell_type": "code",
      "metadata": {
        "id": "yKgNM9vjbArd",
        "colab_type": "code",
        "colab": {}
      },
      "source": [
        "g.max_flow(G, 's','t')"
      ],
      "execution_count": null,
      "outputs": []
    },
    {
      "cell_type": "markdown",
      "metadata": {
        "id": "AmB5kYnZZZKe",
        "colab_type": "text"
      },
      "source": [
        "## 3.2 Dijkstra\n",
        "\n",
        "* Importer des modules nécessaires\n"
      ]
    },
    {
      "cell_type": "code",
      "metadata": {
        "id": "mznnNLuSbnU-",
        "colab_type": "code",
        "colab": {}
      },
      "source": [
        "from collections import defaultdict\n",
        "from heapq import *\n",
        "import networkx as nx\n",
        "import matplotlib.pyplot as plt\n",
        "from GraphAlgorithmPlayer import GraphAlgorithmPlayer\n",
        "import copy"
      ],
      "execution_count": null,
      "outputs": []
    },
    {
      "cell_type": "markdown",
      "metadata": {
        "id": "4RYAYF0hbqEt",
        "colab_type": "text"
      },
      "source": [
        "### 3.2.1 Implémentation de l'algorithme"
      ]
    },
    {
      "cell_type": "code",
      "metadata": {
        "id": "un8R1vI5b0XN",
        "colab_type": "code",
        "colab": {}
      },
      "source": [
        "def dijkstra_raw(G,edges, dep, dst):\n",
        "    g = defaultdict(list)\n",
        "    for u,v,p in edges:#u->v p:poids\n",
        "        g[u].append((p,v))\n",
        "    q, seen = [(0,dep,())], set()\n",
        "    developpe = []\n",
        "\n",
        "    while q:\n",
        "        non_developpe = []\n",
        "        (poid,v1,trajet) = heappop(q)\n",
        "        if v1 not in seen:\n",
        "            print('trajet',trajet)\n",
        "            seen.add(v1)\n",
        "            \n",
        "            list_v1=[]  #list de trajet : red\n",
        "            if len(trajet)>0:\n",
        "                u = trajet[0]\n",
        "                list_v1.append(u)    \n",
        "                v = trajet[1]\n",
        "                while len(v)>0:\n",
        "                    u = v[0]\n",
        "                    list_v1.append(u)    \n",
        "                    v = v[1]\n",
        "            \n",
        "            trajet = (v1, trajet)\n",
        "            developpe.append(v1)\n",
        "            if v1 == dst:\n",
        "                player.set_value(copy.deepcopy(locals()))\n",
        "                return poid,trajet\n",
        "            \n",
        "            list_v2 = []\n",
        "            for p, v2 in g.get(v1, ()):\n",
        "                if v2 not in seen:\n",
        "                    list_v2.append(v2)\n",
        "                    heappush(q, (poid+p, v2, trajet))\n",
        "            for i in q :\n",
        "                non_developpe.append(i[1])\n",
        "                    \n",
        "            player.set_value(copy.deepcopy(locals()))\n",
        "            \n",
        "            \n",
        "    return float(\"inf\"),[]\n",
        " \n",
        "def dijkstra(G,edges, dep, dst):\n",
        "    pcc = -1    #pcc:plus court chemin\n",
        "    ret_trajet=[]\n",
        "    longueur,trajet_queue = dijkstra_raw(G,edges, dep, dst)\n",
        "    if len(trajet_queue)>0:\n",
        "        pcc = longueur    ## 1. Get the length firstly;\n",
        "        ## 2. Decompose the path_queue, to get the passing nodes in the shortest path.\n",
        "        u = trajet_queue[0]\n",
        "        ret_trajet.append(u)    ## 2.1 Record the destination node firstly;\n",
        "        v = trajet_queue[1]\n",
        "        while len(v)>0:\n",
        "            u = v[0]\n",
        "            ret_trajet.append(u)    ## 2.2 Record other nodes, till the source-node.\n",
        "            v = v[1]\n",
        "        ret_trajet.reverse() ## 3. Reverse the list finally, to make it be normal sequence.\n",
        "    return pcc,ret_trajet\n"
      ],
      "execution_count": null,
      "outputs": []
    },
    {
      "cell_type": "markdown",
      "metadata": {
        "id": "z_FcwZFwcEcN",
        "colab_type": "text"
      },
      "source": [
        "###3.2.2 Créer un graphe\n",
        "* l'attribut d'arc différent\n",
        "\n",
        "> node rouge : node déjà développé\n",
        "\n",
        "> node vert : node déjà vu mais pas encore développé\n",
        "\n",
        "> node jaune : node en traint de développer\n",
        "\n",
        "> node départ(gris) : node n'a pas encore vu\n",
        "\n"
      ]
    },
    {
      "cell_type": "code",
      "metadata": {
        "id": "c8VFnYlUc5_3",
        "colab_type": "code",
        "colab": {}
      },
      "source": [
        "variables=[\n",
        "          {'name': 'G',          'type':'graph'                                     },\n",
        "          {'name':'node_labels',        'type':'nodes', 'label': True,    'display': False },\n",
        "          {'name':'non_developpe',        'type':'nodes', 'color': 'green',   'display': True },\n",
        "          {'name':'developpe',        'type':'nodes', 'color': 'red',   'display': True },\n",
        "          {'name':'v1',        'type':'nodes', 'color': 'yellow',   'display': True },\n",
        "          {'name':'trajet',        'type':'nodes',    'display': True }\n",
        "          ]"
      ],
      "execution_count": null,
      "outputs": []
    },
    {
      "cell_type": "markdown",
      "metadata": {
        "id": "Zz9G9tZkdIvG",
        "colab_type": "text"
      },
      "source": [
        "### 3.2.3 Lire des données de graphe et le créer"
      ]
    },
    {
      "cell_type": "code",
      "metadata": {
        "id": "SNOWb1eVdWCW",
        "colab_type": "code",
        "colab": {}
      },
      "source": [
        "data =[('a','b',2),('a','c',3),('b','c',4),('b','d',3),('c','e',5),('d','f',2),('c','d',6),('f','g',4),('c','g',5)]\n",
        "\n",
        "G = nx.DiGraph()#.random_regular_graph\n",
        "G.add_weighted_edges_from(data)\n",
        "\n"
      ],
      "execution_count": null,
      "outputs": []
    },
    {
      "cell_type": "markdown",
      "metadata": {
        "id": "1qtQQhtddkuV",
        "colab_type": "text"
      },
      "source": [
        "### 3.2.4 Visualisation des étapes\n",
        "\n",
        "* dessiner le graphe"
      ]
    },
    {
      "cell_type": "code",
      "metadata": {
        "id": "jes43SjAd82o",
        "colab_type": "code",
        "colab": {}
      },
      "source": [
        "player = GraphAlgorithmPlayer(G, variables=variables, view='networkx')\n",
        "player"
      ],
      "execution_count": null,
      "outputs": []
    },
    {
      "cell_type": "markdown",
      "metadata": {
        "id": "h2UEivJAd931",
        "colab_type": "text"
      },
      "source": [
        "* Trouver le plus court chemin étape par étape"
      ]
    },
    {
      "cell_type": "code",
      "metadata": {
        "id": "hJD2aicAeJlQ",
        "colab_type": "code",
        "colab": {}
      },
      "source": [
        "length,Shortest_path = dijkstra(G,data, 'a', 'g')"
      ],
      "execution_count": null,
      "outputs": []
    },
    {
      "cell_type": "markdown",
      "metadata": {
        "id": "_I2HOFjHqsXU",
        "colab_type": "text"
      },
      "source": [
        "# 4. Conclusion et retour d'experience\n",
        ">  En fait, c'est la première fois que nous utilisons Jupyter. A traver la demonstration des deux algorithme pour ce projet, j'ai famille  avec des bibliothèque de Jupyter et c'est un outil pratique pour un programme interactive. Premièrement, on peut coder cellule par cellule et donc on peut le tester quand on ajoute ou modifie une cellule. C'est plus simple qu'exécuter le programme sur terminal. En plus, il a beaucoup de outil pour dessiner cela aide de réaliser la visualisation . Troisièmement ,l'extension Rise de Jupyter permet de faire des Diaporama avec des codes dedans.\n",
        "Après notre expérience, Jupyter est bien adapté aux objectifs de ce TER(algorithmique interactive).\n",
        "\n",
        "* Conseil pour l'etudiant veut programmer en Python avec Jupyter\n",
        "\n",
        "> On peut utiliser `networkx` pour dessiner des graphe; pour utiliser `GrapheAlgrithmPlayer`, il faut étudier les document de `ipytwidgets` d'abord et lancer les exemple de GrapheAlgrithmPlayer d'Edwige([GrapheAlgrithmPlayer](https://gitlab.u-psud.fr/edwige.gros/GraphAlgorithmPlayer/tree/master/GraphAlgorithmPlayer)). \n",
        "\n",
        "\n",
        "\n"
      ]
    }
  ]
}
